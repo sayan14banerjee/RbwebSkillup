{
 "cells": [
  {
   "cell_type": "code",
   "execution_count": 44,
   "id": "28e96479",
   "metadata": {},
   "outputs": [
    {
     "name": "stdout",
     "output_type": "stream",
     "text": [
      "Helloworld\n"
     ]
    }
   ],
   "source": [
    "with open ('f1.txt', 'r+') as f1: \n",
    "    print(f1.read())\n",
    "    f1.write(\"Hello world\")"
   ]
  },
  {
   "cell_type": "code",
   "execution_count": 25,
   "id": "a23880ee",
   "metadata": {},
   "outputs": [],
   "source": [
    "with open ('f1.txt') as f1:\n",
    "    f1.seek(0, 0)"
   ]
  },
  {
   "cell_type": "code",
   "execution_count": 43,
   "id": "4ca93447",
   "metadata": {},
   "outputs": [
    {
     "name": "stdout",
     "output_type": "stream",
     "text": [
      "Helloworld\n"
     ]
    }
   ],
   "source": [
    "with open ('f1.txt') as f1:\n",
    "    print(f1.read())"
   ]
  },
  {
   "cell_type": "code",
   "execution_count": 42,
   "id": "1accb34e",
   "metadata": {},
   "outputs": [],
   "source": [
    "with open ('f1.txt', 'w') as f2:\n",
    "    f2.write(\"Helloworld\")"
   ]
  },
  {
   "cell_type": "code",
   "execution_count": 45,
   "id": "41f4f59a",
   "metadata": {},
   "outputs": [],
   "source": [
    "import os \n",
    "os.remove(\"f1.txt\")"
   ]
  },
  {
   "cell_type": "code",
   "execution_count": 49,
   "id": "76b4aaa2",
   "metadata": {},
   "outputs": [],
   "source": [
    "with open ('f1.txt', 'w') as f1:\n",
    "    f1.write(\"Hello world\")"
   ]
  },
  {
   "cell_type": "code",
   "execution_count": 50,
   "id": "6d089260",
   "metadata": {},
   "outputs": [],
   "source": [
    "with open ('f1.txt', 'r') as f1, open('f2.txt', 'w') as f2:\n",
    "    for line in f1:\n",
    "        f2.write(line)\n",
    "        "
   ]
  },
  {
   "cell_type": "code",
   "execution_count": 52,
   "id": "b893dda3",
   "metadata": {},
   "outputs": [],
   "source": [
    "with open ('f1.txt', 'r') as f1, open('D:/Work/python/Rbweb/f2.txt', 'w') as f2:\n",
    "    for line in f1:\n",
    "        f2.write(line)\n",
    "        "
   ]
  },
  {
   "cell_type": "code",
   "execution_count": null,
   "id": "d1dc492c",
   "metadata": {},
   "outputs": [],
   "source": []
  }
 ],
 "metadata": {
  "kernelspec": {
   "display_name": "Python 3 (ipykernel)",
   "language": "python",
   "name": "python3"
  },
  "language_info": {
   "codemirror_mode": {
    "name": "ipython",
    "version": 3
   },
   "file_extension": ".py",
   "mimetype": "text/x-python",
   "name": "python",
   "nbconvert_exporter": "python",
   "pygments_lexer": "ipython3",
   "version": "3.11.1"
  }
 },
 "nbformat": 4,
 "nbformat_minor": 5
}
