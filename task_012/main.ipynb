{
 "cells": [
  {
   "cell_type": "code",
   "execution_count": 13,
   "metadata": {},
   "outputs": [],
   "source": [
    "import json "
   ]
  },
  {
   "cell_type": "code",
   "execution_count": 14,
   "metadata": {},
   "outputs": [
    {
     "data": {
      "text/plain": [
       "{'customer_information': {'1234': {'name': 'sk', 'balance': 100000},\n",
       "  '1235': {'name': 'pushpita', 'balance': 25000},\n",
       "  '1231': {'name': 'meghashree', 'balance': 1000},\n",
       "  '1236': {'name': 'sanchari', 'balance': 25600},\n",
       "  '1237': {'name': 'uma', 'balance': 3000},\n",
       "  '1238': {'name': 'subhadip', 'balance': 2500},\n",
       "  '1239': {'name': 'rahul', 'balance': 1000},\n",
       "  '1068': {'name': 'roy', 'balance': 5000}},\n",
       " 'Transaction': {'TR101': {'from': 1234, 'to': 9810, 'amt': 5000},\n",
       "  'TR102': {'from': 9810, 'to': 1234, 'amt': 100000},\n",
       "  'TR103': {'from': 1068, 'to': 9810, 'amt': 256000},\n",
       "  'TR104': {'from': 9810, 'to': 1234, 'amt': 523000},\n",
       "  'TR105': {'from': 1234, 'to': 1068, 'amt': 5000},\n",
       "  'TR106': {'from': 9810, 'to': 1234, 'amt': 52000},\n",
       "  'TR107': {'from': 1234, 'to': 9810, 'amt': 36500},\n",
       "  'TR108': {'from': 1068, 'to': 1234, 'amt': 52000},\n",
       "  'TR110': {'from': 1234, 'to': 9810, 'amt': 560000},\n",
       "  'TR111': {'from': 9810, 'to': 1234, 'amt': 15200},\n",
       "  'TR1112': {'from': 1234, 'to': 1231, 'amt': 1250},\n",
       "  'TR113': {'from': 9810, 'to': 1234, 'amt': 36520}}}"
      ]
     },
     "execution_count": 14,
     "metadata": {},
     "output_type": "execute_result"
    }
   ],
   "source": [
    "# add json file \n",
    "with open ('bank.json') as f:\n",
    "    data = json.load (f)\n",
    "data"
   ]
  },
  {
   "cell_type": "code",
   "execution_count": 15,
   "metadata": {},
   "outputs": [
    {
     "data": {
      "text/plain": [
       "{'TR101': {'from': 1234, 'to': 9810, 'amt': 5000},\n",
       " 'TR102': {'from': 9810, 'to': 1234, 'amt': 100000},\n",
       " 'TR103': {'from': 1068, 'to': 9810, 'amt': 256000},\n",
       " 'TR104': {'from': 9810, 'to': 1234, 'amt': 523000},\n",
       " 'TR105': {'from': 1234, 'to': 1068, 'amt': 5000},\n",
       " 'TR106': {'from': 9810, 'to': 1234, 'amt': 52000},\n",
       " 'TR107': {'from': 1234, 'to': 9810, 'amt': 36500},\n",
       " 'TR108': {'from': 1068, 'to': 1234, 'amt': 52000},\n",
       " 'TR110': {'from': 1234, 'to': 9810, 'amt': 560000},\n",
       " 'TR111': {'from': 9810, 'to': 1234, 'amt': 15200},\n",
       " 'TR1112': {'from': 1234, 'to': 1231, 'amt': 1250},\n",
       " 'TR113': {'from': 9810, 'to': 1234, 'amt': 36520}}"
      ]
     },
     "execution_count": 15,
     "metadata": {},
     "output_type": "execute_result"
    }
   ],
   "source": [
    "#access the customer part\n",
    "customer = data['customer_information']\n",
    "# access 'Transaction' part\n",
    "trans = data['Transaction']\n",
    "customer\n",
    "trans"
   ]
  },
  {
   "cell_type": "markdown",
   "metadata": {},
   "source": [
    "1.print all the customers name."
   ]
  },
  {
   "cell_type": "code",
   "execution_count": 16,
   "metadata": {},
   "outputs": [
    {
     "name": "stdout",
     "output_type": "stream",
     "text": [
      "SK\n",
      "PUSHPITA\n",
      "MEGHASHREE\n",
      "SANCHARI\n",
      "UMA\n",
      "SUBHADIP\n",
      "RAHUL\n",
      "ROY\n"
     ]
    }
   ],
   "source": [
    "for i in customer.keys() :\n",
    "    print(customer[i]['name'].upper())\n",
    "    "
   ]
  },
  {
   "cell_type": "markdown",
   "metadata": {},
   "source": [
    "2.print customer name whoes acc bal is more than 25000"
   ]
  },
  {
   "cell_type": "code",
   "execution_count": 17,
   "metadata": {},
   "outputs": [
    {
     "name": "stdout",
     "output_type": "stream",
     "text": [
      "100000\n",
      "25600\n"
     ]
    }
   ],
   "source": [
    "for i in customer.keys() :\n",
    "    bal=customer[i]['balance']\n",
    "    if bal > 25000:\n",
    "        print(bal)"
   ]
  },
  {
   "cell_type": "markdown",
   "metadata": {},
   "source": [
    "3.print all the trans id whoes trans amount less than 10000"
   ]
  },
  {
   "cell_type": "code",
   "execution_count": 18,
   "metadata": {},
   "outputs": [
    {
     "name": "stdout",
     "output_type": "stream",
     "text": [
      "id TR102 rs 100000\n",
      "id TR103 rs 256000\n",
      "id TR104 rs 523000\n",
      "id TR106 rs 52000\n",
      "id TR107 rs 36500\n",
      "id TR108 rs 52000\n",
      "id TR110 rs 560000\n",
      "id TR111 rs 15200\n",
      "id TR113 rs 36520\n"
     ]
    }
   ],
   "source": [
    "for i in trans.keys() :\n",
    "    bal=trans[i]['amt']\n",
    "    if bal > 10000:\n",
    "        print('id', i,'rs', trans[i]['amt'])"
   ]
  },
  {
   "cell_type": "markdown",
   "metadata": {},
   "source": [
    "4.print all the trans id whoes trans amount is odd or even"
   ]
  },
  {
   "cell_type": "code",
   "execution_count": 19,
   "metadata": {},
   "outputs": [
    {
     "name": "stdout",
     "output_type": "stream",
     "text": [
      "id TR101 even\n",
      "id TR102 even\n",
      "id TR103 even\n",
      "id TR104 even\n",
      "id TR105 even\n",
      "id TR106 even\n",
      "id TR107 even\n",
      "id TR108 even\n",
      "id TR110 even\n",
      "id TR111 even\n",
      "id TR1112 even\n",
      "id TR113 even\n"
     ]
    }
   ],
   "source": [
    "for i in trans.keys() :\n",
    "    bal=trans[i]['amt']\n",
    "    if bal % 2 ==0:\n",
    "        print('id', i, 'even')\n",
    "    else:\n",
    "        print('id', i, 'odd')"
   ]
  },
  {
   "cell_type": "markdown",
   "metadata": {},
   "source": [
    "5.print all the trans id for acc no 1068\n"
   ]
  },
  {
   "cell_type": "code",
   "execution_count": 20,
   "metadata": {},
   "outputs": [
    {
     "name": "stdout",
     "output_type": "stream",
     "text": [
      "TR103\n",
      "TR108\n"
     ]
    }
   ],
   "source": [
    "for i in trans.keys() :\n",
    "    acc = trans[i]['from']\n",
    "    if acc == 1068:\n",
    "        print(i)"
   ]
  },
  {
   "cell_type": "markdown",
   "metadata": {},
   "source": [
    "6.print all the trans for sk's acc\n"
   ]
  },
  {
   "cell_type": "code",
   "execution_count": 21,
   "metadata": {},
   "outputs": [
    {
     "name": "stdout",
     "output_type": "stream",
     "text": [
      "{'from': 1234, 'to': 9810, 'amt': 5000}\n",
      "{'from': 1234, 'to': 1068, 'amt': 5000}\n",
      "{'from': 1234, 'to': 9810, 'amt': 36500}\n",
      "{'from': 1234, 'to': 9810, 'amt': 560000}\n",
      "{'from': 1234, 'to': 1231, 'amt': 1250}\n"
     ]
    }
   ],
   "source": [
    "for i in customer.keys():\n",
    "    if customer[i]['name'] == 'sk':\n",
    "        acc1 = i\n",
    "for i in trans.keys() :\n",
    "    acc = trans[i]['from']\n",
    "    if acc == int(acc1) :\n",
    "        print(trans[i])\n",
    "   \n"
   ]
  },
  {
   "cell_type": "markdown",
   "metadata": {},
   "source": [
    "7.update account balance of acc 1235 to 5000 and deduciton of 1068"
   ]
  },
  {
   "cell_type": "code",
   "execution_count": 24,
   "metadata": {},
   "outputs": [
    {
     "name": "stdout",
     "output_type": "stream",
     "text": [
      "{'name': 'pushpita', 'balance': 25000}\n",
      "{'name': 'roy', 'balance': 5000}\n"
     ]
    }
   ],
   "source": [
    "for i in customer.keys():\n",
    "    if i == '1068':\n",
    "        customer[i]['balance'] -= 5000\n",
    "        print(customer[i])\n",
    "    elif i == '1235':\n",
    "        customer[i]['balance'] += 5000\n",
    "        print(customer[i])\n",
    "trans['TT114']= {'from': 1068, 'to': 1235, 'amt': 5000}"
   ]
  },
  {
   "cell_type": "code",
   "execution_count": 25,
   "metadata": {},
   "outputs": [
    {
     "data": {
      "text/plain": [
       "{'customer_information': {'1234': {'name': 'sk', 'balance': 100000},\n",
       "  '1235': {'name': 'pushpita', 'balance': 25000},\n",
       "  '1231': {'name': 'meghashree', 'balance': 1000},\n",
       "  '1236': {'name': 'sanchari', 'balance': 25600},\n",
       "  '1237': {'name': 'uma', 'balance': 3000},\n",
       "  '1238': {'name': 'subhadip', 'balance': 2500},\n",
       "  '1239': {'name': 'rahul', 'balance': 1000},\n",
       "  '1068': {'name': 'roy', 'balance': 5000}},\n",
       " 'Transaction': {'TR101': {'from': 1234, 'to': 9810, 'amt': 5000},\n",
       "  'TR102': {'from': 9810, 'to': 1234, 'amt': 100000},\n",
       "  'TR103': {'from': 1068, 'to': 9810, 'amt': 256000},\n",
       "  'TR104': {'from': 9810, 'to': 1234, 'amt': 523000},\n",
       "  'TR105': {'from': 1234, 'to': 1068, 'amt': 5000},\n",
       "  'TR106': {'from': 9810, 'to': 1234, 'amt': 52000},\n",
       "  'TR107': {'from': 1234, 'to': 9810, 'amt': 36500},\n",
       "  'TR108': {'from': 1068, 'to': 1234, 'amt': 52000},\n",
       "  'TR110': {'from': 1234, 'to': 9810, 'amt': 560000},\n",
       "  'TR111': {'from': 9810, 'to': 1234, 'amt': 15200},\n",
       "  'TR1112': {'from': 1234, 'to': 1231, 'amt': 1250},\n",
       "  'TR113': {'from': 9810, 'to': 1234, 'amt': 36520},\n",
       "  'TT114': {'from': 1068, 'to': 1235, 'amt': 5000}}}"
      ]
     },
     "execution_count": 25,
     "metadata": {},
     "output_type": "execute_result"
    }
   ],
   "source": [
    "data"
   ]
  },
  {
   "cell_type": "code",
   "execution_count": 28,
   "metadata": {},
   "outputs": [
    {
     "name": "stdout",
     "output_type": "stream",
     "text": [
      "\n"
     ]
    }
   ],
   "source": [
    "i = 7\n",
    "s = input(f\"Enter a name of {i}\")\n",
    "print(s)"
   ]
  },
  {
   "cell_type": "code",
   "execution_count": null,
   "metadata": {},
   "outputs": [],
   "source": []
  }
 ],
 "metadata": {
  "kernelspec": {
   "display_name": "Python 3",
   "language": "python",
   "name": "python3"
  },
  "language_info": {
   "codemirror_mode": {
    "name": "ipython",
    "version": 3
   },
   "file_extension": ".py",
   "mimetype": "text/x-python",
   "name": "python",
   "nbconvert_exporter": "python",
   "pygments_lexer": "ipython3",
   "version": "3.11.1"
  },
  "orig_nbformat": 4
 },
 "nbformat": 4,
 "nbformat_minor": 2
}
