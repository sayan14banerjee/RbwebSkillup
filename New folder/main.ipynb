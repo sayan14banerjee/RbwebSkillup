{
 "cells": [
  {
   "cell_type": "code",
   "execution_count": 182,
   "metadata": {},
   "outputs": [],
   "source": [
    "import pandas as pd\n",
    "import numpy as np\n",
    "import matplotlib.pyplot as plt"
   ]
  },
  {
   "cell_type": "code",
   "execution_count": 183,
   "metadata": {},
   "outputs": [],
   "source": [
    "df = pd.read_csv(\"EncashmentData.csv\")"
   ]
  },
  {
   "cell_type": "code",
   "execution_count": 184,
   "metadata": {},
   "outputs": [
    {
     "data": {
      "text/html": [
       "<div>\n",
       "<style scoped>\n",
       "    .dataframe tbody tr th:only-of-type {\n",
       "        vertical-align: middle;\n",
       "    }\n",
       "\n",
       "    .dataframe tbody tr th {\n",
       "        vertical-align: top;\n",
       "    }\n",
       "\n",
       "    .dataframe thead th {\n",
       "        text-align: right;\n",
       "    }\n",
       "</style>\n",
       "<table border=\"1\" class=\"dataframe\">\n",
       "  <thead>\n",
       "    <tr style=\"text-align: right;\">\n",
       "      <th></th>\n",
       "      <th>Date of\\nEncashment</th>\n",
       "      <th>Name of the Political Party</th>\n",
       "      <th>Denomination</th>\n",
       "    </tr>\n",
       "  </thead>\n",
       "  <tbody>\n",
       "    <tr>\n",
       "      <th>0</th>\n",
       "      <td>12-Apr-19</td>\n",
       "      <td>ALL INDIA ANNA DRAVIDA MUNNETRA KAZHAGAM</td>\n",
       "      <td>1000000.0</td>\n",
       "    </tr>\n",
       "    <tr>\n",
       "      <th>1</th>\n",
       "      <td>12-Apr-19</td>\n",
       "      <td>ALL INDIA ANNA DRAVIDA MUNNETRA KAZHAGAM</td>\n",
       "      <td>1000000.0</td>\n",
       "    </tr>\n",
       "    <tr>\n",
       "      <th>2</th>\n",
       "      <td>12-Apr-19</td>\n",
       "      <td>ALL INDIA ANNA DRAVIDA MUNNETRA KAZHAGAM</td>\n",
       "      <td>10000000.0</td>\n",
       "    </tr>\n",
       "    <tr>\n",
       "      <th>3</th>\n",
       "      <td>12-Apr-19</td>\n",
       "      <td>ALL INDIA ANNA DRAVIDA MUNNETRA KAZHAGAM</td>\n",
       "      <td>1000000.0</td>\n",
       "    </tr>\n",
       "    <tr>\n",
       "      <th>4</th>\n",
       "      <td>12-Apr-19</td>\n",
       "      <td>ALL INDIA ANNA DRAVIDA MUNNETRA KAZHAGAM</td>\n",
       "      <td>1000000.0</td>\n",
       "    </tr>\n",
       "    <tr>\n",
       "      <th>...</th>\n",
       "      <td>...</td>\n",
       "      <td>...</td>\n",
       "      <td>...</td>\n",
       "    </tr>\n",
       "    <tr>\n",
       "      <th>20841</th>\n",
       "      <td>24-Jan-24</td>\n",
       "      <td>JANASENA PARTY</td>\n",
       "      <td>1000000.0</td>\n",
       "    </tr>\n",
       "    <tr>\n",
       "      <th>20842</th>\n",
       "      <td>24-Jan-24</td>\n",
       "      <td>JANASENA PARTY</td>\n",
       "      <td>1000000.0</td>\n",
       "    </tr>\n",
       "    <tr>\n",
       "      <th>20843</th>\n",
       "      <td>24-Jan-24</td>\n",
       "      <td>JANASENA PARTY</td>\n",
       "      <td>1000000.0</td>\n",
       "    </tr>\n",
       "    <tr>\n",
       "      <th>20844</th>\n",
       "      <td>24-Jan-24</td>\n",
       "      <td>JANASENA PARTY</td>\n",
       "      <td>1000000.0</td>\n",
       "    </tr>\n",
       "    <tr>\n",
       "      <th>20845</th>\n",
       "      <td>24-Jan-24</td>\n",
       "      <td>JANASENA PARTY</td>\n",
       "      <td>1000000.0</td>\n",
       "    </tr>\n",
       "  </tbody>\n",
       "</table>\n",
       "<p>20846 rows × 3 columns</p>\n",
       "</div>"
      ],
      "text/plain": [
       "      Date of\\nEncashment               Name of the Political Party  \\\n",
       "0               12-Apr-19  ALL INDIA ANNA DRAVIDA MUNNETRA KAZHAGAM   \n",
       "1               12-Apr-19  ALL INDIA ANNA DRAVIDA MUNNETRA KAZHAGAM   \n",
       "2               12-Apr-19  ALL INDIA ANNA DRAVIDA MUNNETRA KAZHAGAM   \n",
       "3               12-Apr-19  ALL INDIA ANNA DRAVIDA MUNNETRA KAZHAGAM   \n",
       "4               12-Apr-19  ALL INDIA ANNA DRAVIDA MUNNETRA KAZHAGAM   \n",
       "...                   ...                                       ...   \n",
       "20841           24-Jan-24                            JANASENA PARTY   \n",
       "20842           24-Jan-24                            JANASENA PARTY   \n",
       "20843           24-Jan-24                            JANASENA PARTY   \n",
       "20844           24-Jan-24                            JANASENA PARTY   \n",
       "20845           24-Jan-24                            JANASENA PARTY   \n",
       "\n",
       "       Denomination  \n",
       "0         1000000.0  \n",
       "1         1000000.0  \n",
       "2        10000000.0  \n",
       "3         1000000.0  \n",
       "4         1000000.0  \n",
       "...             ...  \n",
       "20841     1000000.0  \n",
       "20842     1000000.0  \n",
       "20843     1000000.0  \n",
       "20844     1000000.0  \n",
       "20845     1000000.0  \n",
       "\n",
       "[20846 rows x 3 columns]"
      ]
     },
     "execution_count": 184,
     "metadata": {},
     "output_type": "execute_result"
    }
   ],
   "source": [
    "df "
   ]
  },
  {
   "cell_type": "code",
   "execution_count": 185,
   "metadata": {},
   "outputs": [
    {
     "data": {
      "text/html": [
       "<div>\n",
       "<style scoped>\n",
       "    .dataframe tbody tr th:only-of-type {\n",
       "        vertical-align: middle;\n",
       "    }\n",
       "\n",
       "    .dataframe tbody tr th {\n",
       "        vertical-align: top;\n",
       "    }\n",
       "\n",
       "    .dataframe thead th {\n",
       "        text-align: right;\n",
       "    }\n",
       "</style>\n",
       "<table border=\"1\" class=\"dataframe\">\n",
       "  <thead>\n",
       "    <tr style=\"text-align: right;\">\n",
       "      <th></th>\n",
       "      <th>Date of\\nEncashment</th>\n",
       "      <th>Name of the Political Party</th>\n",
       "      <th>Denomination</th>\n",
       "    </tr>\n",
       "  </thead>\n",
       "  <tbody>\n",
       "    <tr>\n",
       "      <th>0</th>\n",
       "      <td>12-Apr-19</td>\n",
       "      <td>ALL INDIA ANNA DRAVIDA MUNNETRA KAZHAGAM</td>\n",
       "      <td>1000000.0</td>\n",
       "    </tr>\n",
       "    <tr>\n",
       "      <th>1</th>\n",
       "      <td>12-Apr-19</td>\n",
       "      <td>ALL INDIA ANNA DRAVIDA MUNNETRA KAZHAGAM</td>\n",
       "      <td>1000000.0</td>\n",
       "    </tr>\n",
       "    <tr>\n",
       "      <th>2</th>\n",
       "      <td>12-Apr-19</td>\n",
       "      <td>ALL INDIA ANNA DRAVIDA MUNNETRA KAZHAGAM</td>\n",
       "      <td>10000000.0</td>\n",
       "    </tr>\n",
       "    <tr>\n",
       "      <th>3</th>\n",
       "      <td>12-Apr-19</td>\n",
       "      <td>ALL INDIA ANNA DRAVIDA MUNNETRA KAZHAGAM</td>\n",
       "      <td>1000000.0</td>\n",
       "    </tr>\n",
       "    <tr>\n",
       "      <th>4</th>\n",
       "      <td>12-Apr-19</td>\n",
       "      <td>ALL INDIA ANNA DRAVIDA MUNNETRA KAZHAGAM</td>\n",
       "      <td>1000000.0</td>\n",
       "    </tr>\n",
       "    <tr>\n",
       "      <th>5</th>\n",
       "      <td>12-Apr-19</td>\n",
       "      <td>ALL INDIA ANNA DRAVIDA MUNNETRA KAZHAGAM</td>\n",
       "      <td>1000000.0</td>\n",
       "    </tr>\n",
       "    <tr>\n",
       "      <th>6</th>\n",
       "      <td>12-Apr-19</td>\n",
       "      <td>ALL INDIA ANNA DRAVIDA MUNNETRA KAZHAGAM</td>\n",
       "      <td>1000000.0</td>\n",
       "    </tr>\n",
       "    <tr>\n",
       "      <th>7</th>\n",
       "      <td>12-Apr-19</td>\n",
       "      <td>ALL INDIA ANNA DRAVIDA MUNNETRA KAZHAGAM</td>\n",
       "      <td>1000000.0</td>\n",
       "    </tr>\n",
       "    <tr>\n",
       "      <th>8</th>\n",
       "      <td>12-Apr-19</td>\n",
       "      <td>ALL INDIA ANNA DRAVIDA MUNNETRA KAZHAGAM</td>\n",
       "      <td>1000000.0</td>\n",
       "    </tr>\n",
       "    <tr>\n",
       "      <th>9</th>\n",
       "      <td>12-Apr-19</td>\n",
       "      <td>ALL INDIA ANNA DRAVIDA MUNNETRA KAZHAGAM</td>\n",
       "      <td>1000000.0</td>\n",
       "    </tr>\n",
       "  </tbody>\n",
       "</table>\n",
       "</div>"
      ],
      "text/plain": [
       "  Date of\\nEncashment               Name of the Political Party  Denomination\n",
       "0           12-Apr-19  ALL INDIA ANNA DRAVIDA MUNNETRA KAZHAGAM     1000000.0\n",
       "1           12-Apr-19  ALL INDIA ANNA DRAVIDA MUNNETRA KAZHAGAM     1000000.0\n",
       "2           12-Apr-19  ALL INDIA ANNA DRAVIDA MUNNETRA KAZHAGAM    10000000.0\n",
       "3           12-Apr-19  ALL INDIA ANNA DRAVIDA MUNNETRA KAZHAGAM     1000000.0\n",
       "4           12-Apr-19  ALL INDIA ANNA DRAVIDA MUNNETRA KAZHAGAM     1000000.0\n",
       "5           12-Apr-19  ALL INDIA ANNA DRAVIDA MUNNETRA KAZHAGAM     1000000.0\n",
       "6           12-Apr-19  ALL INDIA ANNA DRAVIDA MUNNETRA KAZHAGAM     1000000.0\n",
       "7           12-Apr-19  ALL INDIA ANNA DRAVIDA MUNNETRA KAZHAGAM     1000000.0\n",
       "8           12-Apr-19  ALL INDIA ANNA DRAVIDA MUNNETRA KAZHAGAM     1000000.0\n",
       "9           12-Apr-19  ALL INDIA ANNA DRAVIDA MUNNETRA KAZHAGAM     1000000.0"
      ]
     },
     "execution_count": 185,
     "metadata": {},
     "output_type": "execute_result"
    }
   ],
   "source": [
    "df.head(10)"
   ]
  },
  {
   "cell_type": "code",
   "execution_count": 186,
   "metadata": {},
   "outputs": [
    {
     "name": "stdout",
     "output_type": "stream",
     "text": [
      "<class 'pandas.core.frame.DataFrame'>\n",
      "RangeIndex: 20846 entries, 0 to 20845\n",
      "Data columns (total 3 columns):\n",
      " #   Column                       Non-Null Count  Dtype  \n",
      "---  ------                       --------------  -----  \n",
      " 0   Date of\n",
      "Encashment           20421 non-null  object \n",
      " 1   Name of the Political Party  20421 non-null  object \n",
      " 2   Denomination                 20421 non-null  float64\n",
      "dtypes: float64(1), object(2)\n",
      "memory usage: 488.7+ KB\n"
     ]
    }
   ],
   "source": [
    "df.info()"
   ]
  },
  {
   "cell_type": "code",
   "execution_count": 187,
   "metadata": {},
   "outputs": [
    {
     "data": {
      "text/plain": [
       "Index(['Date of\\nEncashment', 'Name of the Political Party', 'Denomination'], dtype='object')"
      ]
     },
     "execution_count": 187,
     "metadata": {},
     "output_type": "execute_result"
    }
   ],
   "source": [
    "df.columns"
   ]
  },
  {
   "cell_type": "code",
   "execution_count": 188,
   "metadata": {},
   "outputs": [
    {
     "data": {
      "text/plain": [
       "Name of the Political Party\n",
       "BHARTIYA JANTA PARTY                              8633\n",
       "ALL INDIA TRINAMOOL CONGRESS                      3305\n",
       "PRESIDENT, ALL INDIA CONGRESS COMMITTEE           3146\n",
       "BHARAT RASHTRA SAMITHI                            1806\n",
       "BIJU JANATA DAL                                    861\n",
       "DMK PARTY IN PARLIAMENT                            648\n",
       "YSR CONGRESS PARTY (YUVAJANA SRAMIKA R             472\n",
       "SHIVSENA (POLITICAL PARTY)                         354\n",
       "TELUGU DESAM PARTY                                 279\n",
       "AAM AADMI PARTY                                    245\n",
       "RASTRIYA JANTA DAL                                 149\n",
       "NATIONALIST CONGRESS PARTY PARLIAMENT OF           116\n",
       "JANATA DAL ( SECULAR )                              75\n",
       "SIKKIM KRANTIKARI MORCHA                            50\n",
       "ADYAKSHA SAMAJVADI PARTY                            46\n",
       "JHARKHAND MUKTI MORCHA                              45\n",
       "JANASENA PARTY                                      39\n",
       "ALL INDIA ANNA DRAVIDA MUNNETRA KAZHAGAM            38\n",
       "SHIROMANI AKALI DAL                                 33\n",
       "MAHARASHTRAWADI GOMNTAK PARTY                       28\n",
       "GOA FORWARD PARTY                                   17\n",
       "BIHAR PRADESH JANTA DAL(UNITED)                     14\n",
       "SIKKIM DEMOCRATIC FRONT                             10\n",
       "JAMMU AND KASHMIR NATIONAL CONFERENCE                5\n",
       "NATIONALIST CONGRESS PARTY MAHARASHTRA PRADESH       5\n",
       "SHIVSENA                                             1\n",
       "RASHTRIYA JANTA DAL                                  1\n",
       "Name: count, dtype: int64"
      ]
     },
     "execution_count": 188,
     "metadata": {},
     "output_type": "execute_result"
    }
   ],
   "source": [
    "df['Name of the Political Party'].value_counts()"
   ]
  },
  {
   "cell_type": "code",
   "execution_count": 189,
   "metadata": {},
   "outputs": [
    {
     "data": {
      "text/plain": [
       "Name of the Political Party\n",
       "BHARTIYA JANTA PARTY                       8633\n",
       "ALL INDIA TRINAMOOL CONGRESS               3305\n",
       "PRESIDENT, ALL INDIA CONGRESS COMMITTEE    3146\n",
       "BHARAT RASHTRA SAMITHI                     1806\n",
       "BIJU JANATA DAL                             861\n",
       "DMK PARTY IN PARLIAMENT                     648\n",
       "YSR CONGRESS PARTY (YUVAJANA SRAMIKA R      472\n",
       "SHIVSENA (POLITICAL PARTY)                  354\n",
       "TELUGU DESAM PARTY                          279\n",
       "AAM AADMI PARTY                             245\n",
       "Name: count, dtype: int64"
      ]
     },
     "execution_count": 189,
     "metadata": {},
     "output_type": "execute_result"
    }
   ],
   "source": [
    "top_10 = df['Name of the Political Party'].value_counts().head(10)\n",
    "top_10"
   ]
  },
  {
   "cell_type": "code",
   "execution_count": 190,
   "metadata": {},
   "outputs": [
    {
     "data": {
      "image/png": "[encoded data removed]",
      "text/plain": [
       "<Figure size 640x480 with 1 Axes>"
      ]
     },
     "metadata": {},
     "output_type": "display_data"
    }
   ],
   "source": [
    "ax= top_10.plot(kind = \"bar\", color = 'skyblue', edgecolor = 'red' )\n",
    "plt.title('Transaction party wise')\n",
    "plt.xlabel('Party')\n",
    "plt.ylabel('Transaction')\n",
    "for i, v in enumerate(top_10):\n",
    "    ax.text(i, v, str(v))\n",
    "\n",
    "plt.show()"
   ]
  },
  {
   "cell_type": "markdown",
   "metadata": {},
   "source": [
    "### How much Amount top 3 parties got in total?"
   ]
  },
  {
   "cell_type": "code",
   "execution_count": 191,
   "metadata": {},
   "outputs": [],
   "source": [
    "top_3 = df['Name of the Political Party'].value_counts().head(3).index"
   ]
  },
  {
   "cell_type": "code",
   "execution_count": 192,
   "metadata": {},
   "outputs": [
    {
     "data": {
      "text/plain": [
       "Index(['BHARTIYA JANTA PARTY', 'ALL INDIA TRINAMOOL CONGRESS',\n",
       "       'PRESIDENT, ALL INDIA CONGRESS COMMITTEE'],\n",
       "      dtype='object', name='Name of the Political Party')"
      ]
     },
     "execution_count": 192,
     "metadata": {},
     "output_type": "execute_result"
    }
   ],
   "source": [
    "top_3"
   ]
  },
  {
   "cell_type": "code",
   "execution_count": 193,
   "metadata": {},
   "outputs": [
    {
     "data": {
      "text/html": [
       "<div>\n",
       "<style scoped>\n",
       "    .dataframe tbody tr th:only-of-type {\n",
       "        vertical-align: middle;\n",
       "    }\n",
       "\n",
       "    .dataframe tbody tr th {\n",
       "        vertical-align: top;\n",
       "    }\n",
       "\n",
       "    .dataframe thead th {\n",
       "        text-align: right;\n",
       "    }\n",
       "</style>\n",
       "<table border=\"1\" class=\"dataframe\">\n",
       "  <thead>\n",
       "    <tr style=\"text-align: right;\">\n",
       "      <th></th>\n",
       "      <th>Date of\\nEncashment</th>\n",
       "      <th>Name of the Political Party</th>\n",
       "      <th>Denomination</th>\n",
       "    </tr>\n",
       "  </thead>\n",
       "  <tbody>\n",
       "    <tr>\n",
       "      <th>61</th>\n",
       "      <td>12-Apr-19</td>\n",
       "      <td>BHARTIYA JANTA PARTY</td>\n",
       "      <td>1000000.0</td>\n",
       "    </tr>\n",
       "    <tr>\n",
       "      <th>62</th>\n",
       "      <td>12-Apr-19</td>\n",
       "      <td>BHARTIYA JANTA PARTY</td>\n",
       "      <td>1000000.0</td>\n",
       "    </tr>\n",
       "    <tr>\n",
       "      <th>63</th>\n",
       "      <td>12-Apr-19</td>\n",
       "      <td>BHARTIYA JANTA PARTY</td>\n",
       "      <td>1000000.0</td>\n",
       "    </tr>\n",
       "    <tr>\n",
       "      <th>64</th>\n",
       "      <td>12-Apr-19</td>\n",
       "      <td>BHARTIYA JANTA PARTY</td>\n",
       "      <td>1000000.0</td>\n",
       "    </tr>\n",
       "    <tr>\n",
       "      <th>65</th>\n",
       "      <td>12-Apr-19</td>\n",
       "      <td>BHARTIYA JANTA PARTY</td>\n",
       "      <td>10000000.0</td>\n",
       "    </tr>\n",
       "    <tr>\n",
       "      <th>...</th>\n",
       "      <td>...</td>\n",
       "      <td>...</td>\n",
       "      <td>...</td>\n",
       "    </tr>\n",
       "    <tr>\n",
       "      <th>20831</th>\n",
       "      <td>24-Jan-24</td>\n",
       "      <td>BHARTIYA JANTA PARTY</td>\n",
       "      <td>10000000.0</td>\n",
       "    </tr>\n",
       "    <tr>\n",
       "      <th>20832</th>\n",
       "      <td>24-Jan-24</td>\n",
       "      <td>BHARTIYA JANTA PARTY</td>\n",
       "      <td>10000000.0</td>\n",
       "    </tr>\n",
       "    <tr>\n",
       "      <th>20833</th>\n",
       "      <td>24-Jan-24</td>\n",
       "      <td>BHARTIYA JANTA PARTY</td>\n",
       "      <td>10000000.0</td>\n",
       "    </tr>\n",
       "    <tr>\n",
       "      <th>20834</th>\n",
       "      <td>24-Jan-24</td>\n",
       "      <td>BHARTIYA JANTA PARTY</td>\n",
       "      <td>10000000.0</td>\n",
       "    </tr>\n",
       "    <tr>\n",
       "      <th>20835</th>\n",
       "      <td>24-Jan-24</td>\n",
       "      <td>BHARTIYA JANTA PARTY</td>\n",
       "      <td>10000000.0</td>\n",
       "    </tr>\n",
       "  </tbody>\n",
       "</table>\n",
       "<p>15084 rows × 3 columns</p>\n",
       "</div>"
      ],
      "text/plain": [
       "      Date of\\nEncashment Name of the Political Party  Denomination\n",
       "61              12-Apr-19        BHARTIYA JANTA PARTY     1000000.0\n",
       "62              12-Apr-19        BHARTIYA JANTA PARTY     1000000.0\n",
       "63              12-Apr-19        BHARTIYA JANTA PARTY     1000000.0\n",
       "64              12-Apr-19        BHARTIYA JANTA PARTY     1000000.0\n",
       "65              12-Apr-19        BHARTIYA JANTA PARTY    10000000.0\n",
       "...                   ...                         ...           ...\n",
       "20831           24-Jan-24        BHARTIYA JANTA PARTY    10000000.0\n",
       "20832           24-Jan-24        BHARTIYA JANTA PARTY    10000000.0\n",
       "20833           24-Jan-24        BHARTIYA JANTA PARTY    10000000.0\n",
       "20834           24-Jan-24        BHARTIYA JANTA PARTY    10000000.0\n",
       "20835           24-Jan-24        BHARTIYA JANTA PARTY    10000000.0\n",
       "\n",
       "[15084 rows x 3 columns]"
      ]
     },
     "execution_count": 193,
     "metadata": {},
     "output_type": "execute_result"
    }
   ],
   "source": [
    "top_3_parties = df[df['Name of the Political Party'].isin(top_3)]\n",
    "top_3_parties"
   ]
  },
  {
   "cell_type": "code",
   "execution_count": 194,
   "metadata": {},
   "outputs": [
    {
     "data": {
      "text/plain": [
       "<Axes: ylabel='count'>"
      ]
     },
     "execution_count": 194,
     "metadata": {},
     "output_type": "execute_result"
    },
    {
     "data": {
      "image/png": "[encoded data removed]",
      "text/plain": [
       "<Figure size 640x480 with 1 Axes>"
      ]
     },
     "metadata": {},
     "output_type": "display_data"
    }
   ],
   "source": [
    "colors = ['orange','blue','green']\n",
    "top_3_parties['Name of the Political Party'].value_counts().plot(kind='pie', colors=colors, startangle=90)"
   ]
  },
  {
   "cell_type": "code",
   "execution_count": 195,
   "metadata": {},
   "outputs": [],
   "source": [
    "total = top_3_parties.groupby('Name of the Political Party')['Denomination'].sum()"
   ]
  },
  {
   "cell_type": "code",
   "execution_count": 196,
   "metadata": {},
   "outputs": [
    {
     "data": {
      "text/plain": [
       "('The total amount of top3 parties: ',\n",
       " Name of the Political Party\n",
       " ALL INDIA TRINAMOOL CONGRESS               1.609531e+10\n",
       " BHARTIYA JANTA PARTY                       6.060511e+10\n",
       " PRESIDENT, ALL INDIA CONGRESS COMMITTEE    1.421866e+10\n",
       " Name: Denomination, dtype: float64)"
      ]
     },
     "execution_count": 196,
     "metadata": {},
     "output_type": "execute_result"
    }
   ],
   "source": [
    "f\"The total amount of top3 parties: \", total"
   ]
  },
  {
   "cell_type": "code",
   "execution_count": 197,
   "metadata": {},
   "outputs": [
    {
     "data": {
      "image/png": "[encoded data removed]",
      "text/plain": [
       "<Figure size 800x500 with 1 Axes>"
      ]
     },
     "metadata": {},
     "output_type": "display_data"
    }
   ],
   "source": [
    "ax = total.plot(kind = 'bar', color = 'blue', edgecolor = 'red', figsize= (8,5))\n",
    "plt.title(\"Top 3 parties: \")\n",
    "plt.xlabel('Parties')\n",
    "plt.ylabel('Denomination')\n",
    "for i, v in enumerate(total):\n",
    "    ax.text(i, v, str(v))"
   ]
  },
  {
   "cell_type": "markdown",
   "metadata": {},
   "source": [
    ".Which date they got their first payment?"
   ]
  },
  {
   "cell_type": "code",
   "execution_count": 198,
   "metadata": {},
   "outputs": [
    {
     "data": {
      "text/plain": [
       "Name of the Political Party\n",
       "ALL INDIA TRINAMOOL CONGRESS               01-Feb-23\n",
       "BHARTIYA JANTA PARTY                       01-Dec-23\n",
       "PRESIDENT, ALL INDIA CONGRESS COMMITTEE    05-Oct-21\n",
       "Name: Date of\\nEncashment, dtype: object"
      ]
     },
     "execution_count": 198,
     "metadata": {},
     "output_type": "execute_result"
    }
   ],
   "source": [
    "top_3_parties.groupby('Name of the Political Party')['Date of\\nEncashment'].min()"
   ]
  },
  {
   "cell_type": "markdown",
   "metadata": {},
   "source": [
    "which date they got their highest payment?"
   ]
  },
  {
   "cell_type": "code",
   "execution_count": 199,
   "metadata": {},
   "outputs": [
    {
     "data": {
      "text/plain": [
       "Name of the Political Party\n",
       "ALL INDIA TRINAMOOL CONGRESS               787\n",
       "BHARTIYA JANTA PARTY                        65\n",
       "PRESIDENT, ALL INDIA CONGRESS COMMITTEE    472\n",
       "Name: Denomination, dtype: int64"
      ]
     },
     "execution_count": 199,
     "metadata": {},
     "output_type": "execute_result"
    }
   ],
   "source": [
    "maxPay = top_3_parties.groupby('Name of the Political Party')['Denomination'].idxmax()\n",
    "maxPay"
   ]
  },
  {
   "cell_type": "code",
   "execution_count": 200,
   "metadata": {},
   "outputs": [
    {
     "data": {
      "text/html": [
       "<div>\n",
       "<style scoped>\n",
       "    .dataframe tbody tr th:only-of-type {\n",
       "        vertical-align: middle;\n",
       "    }\n",
       "\n",
       "    .dataframe tbody tr th {\n",
       "        vertical-align: top;\n",
       "    }\n",
       "\n",
       "    .dataframe thead th {\n",
       "        text-align: right;\n",
       "    }\n",
       "</style>\n",
       "<table border=\"1\" class=\"dataframe\">\n",
       "  <thead>\n",
       "    <tr style=\"text-align: right;\">\n",
       "      <th></th>\n",
       "      <th>Date of\\nEncashment</th>\n",
       "      <th>Name of the Political Party</th>\n",
       "      <th>Denomination</th>\n",
       "    </tr>\n",
       "  </thead>\n",
       "  <tbody>\n",
       "    <tr>\n",
       "      <th>787</th>\n",
       "      <td>16-Apr-19</td>\n",
       "      <td>ALL INDIA TRINAMOOL CONGRESS</td>\n",
       "      <td>10000000.0</td>\n",
       "    </tr>\n",
       "    <tr>\n",
       "      <th>65</th>\n",
       "      <td>12-Apr-19</td>\n",
       "      <td>BHARTIYA JANTA PARTY</td>\n",
       "      <td>10000000.0</td>\n",
       "    </tr>\n",
       "    <tr>\n",
       "      <th>472</th>\n",
       "      <td>12-Apr-19</td>\n",
       "      <td>PRESIDENT, ALL INDIA CONGRESS COMMITTEE</td>\n",
       "      <td>10000000.0</td>\n",
       "    </tr>\n",
       "  </tbody>\n",
       "</table>\n",
       "</div>"
      ],
      "text/plain": [
       "    Date of\\nEncashment              Name of the Political Party  Denomination\n",
       "787           16-Apr-19             ALL INDIA TRINAMOOL CONGRESS    10000000.0\n",
       "65            12-Apr-19                     BHARTIYA JANTA PARTY    10000000.0\n",
       "472           12-Apr-19  PRESIDENT, ALL INDIA CONGRESS COMMITTEE    10000000.0"
      ]
     },
     "execution_count": 200,
     "metadata": {},
     "output_type": "execute_result"
    }
   ],
   "source": [
    "date = top_3_parties.loc[maxPay]\n",
    "date"
   ]
  },
  {
   "cell_type": "markdown",
   "metadata": {},
   "source": [
    ".which party got highest amount?"
   ]
  },
  {
   "cell_type": "code",
   "execution_count": 201,
   "metadata": {},
   "outputs": [
    {
     "data": {
      "text/plain": [
       "('BHARTIYA JANTA PARTY', 60605111000.0)"
      ]
     },
     "execution_count": 201,
     "metadata": {},
     "output_type": "execute_result"
    }
   ],
   "source": [
    "x = top_3_parties.groupby('Name of the Political Party')['Denomination'].sum().idxmax()\n",
    "y = top_3_parties.groupby('Name of the Political Party')['Denomination'].sum().max()\n",
    "x, y"
   ]
  },
  {
   "cell_type": "markdown",
   "metadata": {},
   "source": [
    "Make the party names in short form like BJP,AITC etc?"
   ]
  },
  {
   "cell_type": "code",
   "execution_count": 202,
   "metadata": {},
   "outputs": [
    {
     "data": {
      "text/plain": [
       "Name of the Political Party\n",
       "AAM AADMI PARTY                                    4005\n",
       "ADYAKSHA SAMAJVADI PARTY                           3109\n",
       "ALL INDIA ANNA DRAVIDA MUNNETRA KAZHAGAM              2\n",
       "ALL INDIA TRINAMOOL CONGRESS                        787\n",
       "BHARAT RASHTRA SAMITHI                               33\n",
       "BHARTIYA JANTA PARTY                                 65\n",
       "BIHAR PRADESH JANTA DAL(UNITED)                    1085\n",
       "BIJU JANATA DAL                                    4326\n",
       "DMK PARTY IN PARLIAMENT                             653\n",
       "GOA FORWARD PARTY                                  8965\n",
       "JAMMU AND KASHMIR NATIONAL CONFERENCE              3028\n",
       "JANASENA PARTY                                    12181\n",
       "JANATA DAL ( SECULAR )                            15145\n",
       "JHARKHAND MUKTI MORCHA                            14372\n",
       "MAHARASHTRAWADI GOMNTAK PARTY                      9982\n",
       "NATIONALIST CONGRESS PARTY MAHARASHTRA PRADESH     4384\n",
       "NATIONALIST CONGRESS PARTY PARLIAMENT OF           4361\n",
       "PRESIDENT, ALL INDIA CONGRESS COMMITTEE             472\n",
       "RASHTRIYA JANTA DAL                               16554\n",
       "RASTRIYA JANTA DAL                                 5197\n",
       "SHIROMANI AKALI DAL                                2274\n",
       "SHIVSENA                                           4366\n",
       "SHIVSENA (POLITICAL PARTY)                          499\n",
       "SIKKIM DEMOCRATIC FRONT                           18849\n",
       "SIKKIM KRANTIKARI MORCHA                          11786\n",
       "TELUGU DESAM PARTY                                  775\n",
       "YSR CONGRESS PARTY (YUVAJANA SRAMIKA R              514\n",
       "Name: Denomination, dtype: int64"
      ]
     },
     "execution_count": 202,
     "metadata": {},
     "output_type": "execute_result"
    }
   ],
   "source": [
    "df.groupby('Name of the Political Party')['Denomination'].idxmax()"
   ]
  },
  {
   "cell_type": "code",
   "execution_count": 203,
   "metadata": {},
   "outputs": [],
   "source": [
    "new_name = {\n",
    "'AAM AADMI PARTY' : 'A A M',\n",
    "'ADYAKSHA SAMAJVADI PARTY' : 'ASP',\n",
    "'ALL INDIA ANNA DRAVIDA MUNNETRA KAZHAGAM' : 'AIADMK',\n",
    "'ALL INDIA TRINAMOOL CONGRESS' : 'AITC',\n",
    "'BHARAT RASHTRA SAMITHI' : 'BRS',\n",
    "'BHARTIYA JANTA PARTY' : 'BJP',\n",
    "'BIHAR PRADESH JANTA DAL(UNITED)' : 'BPJD',\n",
    "'BIJU JANATA DAL ' : 'BJD',\n",
    "'DMK PARTY IN PARLIAMENT' : 'DPP',\n",
    "'GOA FORWARD PARTY ' : 'GFP',\n",
    "'JAMMU AND KASHMIR NATIONAL CONFERENCE' : 'J&KNC',\n",
    "'JANASENA PARTY' : 'JP',\n",
    "'JANATA DAL ( SECULAR )' : 'JD (SECULAR)',\n",
    "'JHARKHAND MUKTI MORCHA ' : 'JMM',\n",
    "'MAHARASHTRAWADI GOMNTAK PARTY' : 'MGP',\n",
    "'NATIONALIST CONGRESS PARTY MAHARASHTRA PRADESH' : 'NCPMP',\n",
    "'NATIONALIST CONGRESS PARTY PARLIAMENT OF' : 'NCPP',\n",
    "'PRESIDENT, ALL INDIA CONGRESS COMMITTEE' : 'AICC',\n",
    "'RASHTRIYA JANTA DAL' : 'RJD',\n",
    "'RASTRIYA JANTA DAL' : 'RJD',\n",
    "'SHIROMANI AKALI DAL' : 'SAD',\n",
    "'SHIVSENA' : 'SVS',\n",
    "'SHIVSENA (POLITICAL PARTY)' : 'SVS(PC)',\n",
    "'SIKKIM DEMOCRATIC FRONT' : 'SDF',\n",
    "'SIKKIM KRANTIKARI MORCHA' : 'SKM',\n",
    "'TELUGU DESAM PARTY' : 'TDP', \n",
    "'YSR CONGRESS PARTY (YUVAJANA SRAMIKA R': 'YSR CP'\n",
    "}"
   ]
  },
  {
   "cell_type": "code",
   "execution_count": 204,
   "metadata": {},
   "outputs": [],
   "source": [
    "df ['Name of the Political Party'] = df['Name of the Political Party'].map(new_name)"
   ]
  },
  {
   "cell_type": "code",
   "execution_count": 205,
   "metadata": {},
   "outputs": [
    {
     "data": {
      "text/plain": [
       "Name of the Political Party\n",
       "BJP             8633\n",
       "AITC            3305\n",
       "AICC            3146\n",
       "BRS             1806\n",
       "DPP              648\n",
       "YSR CP           472\n",
       "SVS(PC)          354\n",
       "TDP              279\n",
       "A A M            245\n",
       "RJD              150\n",
       "NCPP             116\n",
       "JD (SECULAR)      75\n",
       "SKM               50\n",
       "ASP               46\n",
       "JP                39\n",
       "AIADMK            38\n",
       "SAD               33\n",
       "MGP               28\n",
       "BPJD              14\n",
       "SDF               10\n",
       "NCPMP              5\n",
       "J&KNC              5\n",
       "SVS                1\n",
       "Name: count, dtype: int64"
      ]
     },
     "execution_count": 205,
     "metadata": {},
     "output_type": "execute_result"
    }
   ],
   "source": [
    "df['Name of the Political Party'].value_counts()"
   ]
  },
  {
   "cell_type": "markdown",
   "metadata": {},
   "source": [
    "In which date the highest transaction happend and how many transactiins has been done on that date...print the date also?"
   ]
  },
  {
   "cell_type": "code",
   "execution_count": 206,
   "metadata": {},
   "outputs": [
    {
     "data": {
      "text/plain": [
       "Date of\\nEncashment\n",
       "01-Dec-23    1.300000e+07\n",
       "01-Feb-23    6.700000e+08\n",
       "02-Dec-23    2.500000e+08\n",
       "02-Feb-23    2.500000e+07\n",
       "02-May-19    2.010000e+07\n",
       "                 ...     \n",
       "29-Oct-20    2.400000e+08\n",
       "30-Apr-19    3.800000e+06\n",
       "30-Jan-23    1.405000e+09\n",
       "31-Jan-23    1.305000e+08\n",
       "31-Oct-20    2.000000e+07\n",
       "Name: Denomination, Length: 230, dtype: float64"
      ]
     },
     "execution_count": 206,
     "metadata": {},
     "output_type": "execute_result"
    }
   ],
   "source": [
    "transaction_totals = df.groupby('Date of\\nEncashment')['Denomination'].sum()\n",
    "transaction_totals"
   ]
  },
  {
   "cell_type": "code",
   "execution_count": 207,
   "metadata": {},
   "outputs": [
    {
     "data": {
      "text/plain": [
       "'10-May-19'"
      ]
     },
     "execution_count": 207,
     "metadata": {},
     "output_type": "execute_result"
    }
   ],
   "source": [
    "date_highest_transaction = transaction_totals.idxmax()\n",
    "date_highest_transaction"
   ]
  },
  {
   "cell_type": "code",
   "execution_count": 208,
   "metadata": {},
   "outputs": [
    {
     "data": {
      "text/plain": [
       "512"
      ]
     },
     "execution_count": 208,
     "metadata": {},
     "output_type": "execute_result"
    }
   ],
   "source": [
    "transaction_on_date = df[df['Date of\\nEncashment']== date_highest_transaction].shape[0]\n",
    "transaction_on_date"
   ]
  },
  {
   "cell_type": "markdown",
   "metadata": {},
   "source": [
    "The top 3 parties...print their denominations like BJP > 1Lakh -> 30, 10lakh >50"
   ]
  },
  {
   "cell_type": "code",
   "execution_count": null,
   "metadata": {},
   "outputs": [
    {
     "data": {
      "text/plain": [
       "Name of the Political Party\n",
       "BHARTIYA JANTA PARTY                       8633\n",
       "ALL INDIA TRINAMOOL CONGRESS               3305\n",
       "PRESIDENT, ALL INDIA CONGRESS COMMITTEE    3146\n",
       "Name: count, dtype: int64"
      ]
     },
     "execution_count": 115,
     "metadata": {},
     "output_type": "execute_result"
    }
   ],
   "source": [
    "top_3_parties['Name of the Political Party'].value_counts()"
   ]
  },
  {
   "cell_type": "code",
   "execution_count": null,
   "metadata": {},
   "outputs": [],
   "source": [
    "b1 = top_3_parties[(top_3_parties['Denomination'] == 100000) & (top_3_parties['Name of the Political Party']=='BHARTIYA JANTA PARTY')].shape[0]"
   ]
  },
  {
   "cell_type": "code",
   "execution_count": null,
   "metadata": {},
   "outputs": [],
   "source": [
    "b2 = top_3_parties[(top_3_parties['Denomination'] == 1000000) & (top_3_parties['Name of the Political Party'] == 'BHARTIYA JANTA PARTY')].shape[0]"
   ]
  },
  {
   "cell_type": "code",
   "execution_count": null,
   "metadata": {},
   "outputs": [],
   "source": [
    "t1 = top_3_parties[(top_3_parties['Denomination'] == 100000) & (top_3_parties['Name of the Political Party'] == 'ALL INDIA TRINAMOOL CONGRESS')].shape[0]"
   ]
  },
  {
   "cell_type": "code",
   "execution_count": null,
   "metadata": {},
   "outputs": [],
   "source": [
    "t2 = top_3_parties[(top_3_parties['Denomination'] == 1000000) & (top_3_parties['Name of the Political Party'] == 'ALL INDIA TRINAMOOL CONGRESS')].shape[0]"
   ]
  },
  {
   "cell_type": "code",
   "execution_count": null,
   "metadata": {},
   "outputs": [],
   "source": [
    "c1 = top_3_parties[(top_3_parties['Denomination'] == 100000) & (top_3_parties['Name of the Political Party'] == 'PRESIDENT, ALL INDIA CONGRESS COMMITTEE')].shape[0]"
   ]
  },
  {
   "cell_type": "code",
   "execution_count": null,
   "metadata": {},
   "outputs": [],
   "source": [
    "c2 = top_3_parties[(top_3_parties['Denomination'] == 1000000) & (top_3_parties['Name of the Political Party'] == 'PRESIDENT, ALL INDIA CONGRESS COMMITTEE')].shape[0]"
   ]
  },
  {
   "cell_type": "code",
   "execution_count": null,
   "metadata": {},
   "outputs": [
    {
     "data": {
      "text/plain": [
       "'BJP > 1Lakh -> 706, 10lakh ->1994\\nAITC > 1Lakh -> 410, 10lakh ->1384\\nPAICC > 1Lakh -> 800, 10lakh ->958'"
      ]
     },
     "execution_count": 145,
     "metadata": {},
     "output_type": "execute_result"
    }
   ],
   "source": [
    "f'''BJP > 1Lakh -> {b1}, 10lakh ->{b2}\n",
    "AITC > 1Lakh -> {t1}, 10lakh ->{t2}\n",
    "PAICC > 1Lakh -> {c1}, 10lakh ->{c2}'''"
   ]
  },
  {
   "cell_type": "code",
   "execution_count": null,
   "metadata": {},
   "outputs": [
    {
     "data": {
      "text/plain": [
       "<matplotlib.legend.Legend at 0x2cb914859d0>"
      ]
     },
     "execution_count": 148,
     "metadata": {},
     "output_type": "execute_result"
    },
    {
     "data": {
      "image/png": "[encoded data removed]",
      "text/plain": [
       "<Figure size 640x480 with 1 Axes>"
      ]
     },
     "metadata": {},
     "output_type": "display_data"
    }
   ],
   "source": [
    "x = ['BJP', 'AITC', 'PAICC']\n",
    "y = [b1, t1, c1]\n",
    "z = [b2, t2, c2]\n",
    "\n",
    "X_axis = np.arange(len(x))\n",
    "plt.bar(X_axis - 0.2, y, 0.4, label = '1 lakh', color = 'cyan') \n",
    "plt.bar(X_axis + 0.2, z, 0.4, label = '10 lakh', color = 'magenta')\n",
    "\n",
    "plt.xticks(X_axis, x)\n",
    "plt.xlabel('parties')\n",
    "plt.ylabel('Number of 1/10 lakhs')\n",
    "plt.legend()"
   ]
  },
  {
   "cell_type": "markdown",
   "metadata": {},
   "source": [
    "In which date there was least no of transaction has been done?"
   ]
  },
  {
   "cell_type": "code",
   "execution_count": null,
   "metadata": {},
   "outputs": [
    {
     "data": {
      "text/plain": [
       "('01-Dec-23', 10000000.0)"
      ]
     },
     "execution_count": 122,
     "metadata": {},
     "output_type": "execute_result"
    }
   ],
   "source": [
    "least_trans_date = df.groupby('Date of\\nEncashment')['Denomination'].value_counts().idxmin()\n",
    "least_trans_date"
   ]
  },
  {
   "cell_type": "code",
   "execution_count": null,
   "metadata": {},
   "outputs": [
    {
     "data": {
      "text/plain": [
       "1"
      ]
     },
     "execution_count": 123,
     "metadata": {},
     "output_type": "execute_result"
    }
   ],
   "source": [
    "least_trans =  df.groupby('Date of\\nEncashment')['Denomination'].value_counts().min()\n",
    "least_trans"
   ]
  },
  {
   "cell_type": "markdown",
   "metadata": {},
   "source": [
    "In which date, the higest amount has been donated?"
   ]
  },
  {
   "cell_type": "code",
   "execution_count": null,
   "metadata": {},
   "outputs": [
    {
     "data": {
      "text/plain": [
       "'10-May-19'"
      ]
     },
     "execution_count": 124,
     "metadata": {},
     "output_type": "execute_result"
    }
   ],
   "source": [
    "df.groupby('Date of\\nEncashment')['Denomination'].sum().idxmax()"
   ]
  },
  {
   "cell_type": "code",
   "execution_count": null,
   "metadata": {},
   "outputs": [
    {
     "data": {
      "text/plain": [
       "4116500000.0"
      ]
     },
     "execution_count": 125,
     "metadata": {},
     "output_type": "execute_result"
    }
   ],
   "source": [
    "df.groupby('Date of\\nEncashment')['Denomination'].sum().max()"
   ]
  },
  {
   "cell_type": "markdown",
   "metadata": {},
   "source": [
    "change date format to dd/mm/yyyy. ex 03-apr-19 > 03/04/2019"
   ]
  },
  {
   "cell_type": "code",
   "execution_count": null,
   "metadata": {},
   "outputs": [
    {
     "name": "stderr",
     "output_type": "stream",
     "text": [
      "C:\\Users\\SAYAN\\AppData\\Local\\Temp\\ipykernel_4236\\3404798734.py:1: UserWarning: Could not infer format, so each element will be parsed individually, falling back to `dateutil`. To ensure parsing is consistent and as-expected, please specify a format.\n",
      "  df['Date of\\nEncashment'] = pd.to_datetime(df['Date of\\nEncashment'])\n"
     ]
    }
   ],
   "source": [
    "df['Date of\\nEncashment'] = pd.to_datetime(df['Date of\\nEncashment'])"
   ]
  },
  {
   "cell_type": "code",
   "execution_count": null,
   "metadata": {},
   "outputs": [],
   "source": [
    "df['Date of\\nEncashment'] = df['Date of\\nEncashment'].dt.strftime('%d/%m/%Y')"
   ]
  },
  {
   "cell_type": "code",
   "execution_count": null,
   "metadata": {},
   "outputs": [
    {
     "data": {
      "text/html": [
       "<div>\n",
       "<style scoped>\n",
       "    .dataframe tbody tr th:only-of-type {\n",
       "        vertical-align: middle;\n",
       "    }\n",
       "\n",
       "    .dataframe tbody tr th {\n",
       "        vertical-align: top;\n",
       "    }\n",
       "\n",
       "    .dataframe thead th {\n",
       "        text-align: right;\n",
       "    }\n",
       "</style>\n",
       "<table border=\"1\" class=\"dataframe\">\n",
       "  <thead>\n",
       "    <tr style=\"text-align: right;\">\n",
       "      <th></th>\n",
       "      <th>Date of\\nEncashment</th>\n",
       "      <th>Name of the Political Party</th>\n",
       "      <th>Denomination</th>\n",
       "    </tr>\n",
       "  </thead>\n",
       "  <tbody>\n",
       "    <tr>\n",
       "      <th>0</th>\n",
       "      <td>12/04/2019</td>\n",
       "      <td>AIADMK</td>\n",
       "      <td>1000000.0</td>\n",
       "    </tr>\n",
       "    <tr>\n",
       "      <th>1</th>\n",
       "      <td>12/04/2019</td>\n",
       "      <td>AIADMK</td>\n",
       "      <td>1000000.0</td>\n",
       "    </tr>\n",
       "    <tr>\n",
       "      <th>2</th>\n",
       "      <td>12/04/2019</td>\n",
       "      <td>AIADMK</td>\n",
       "      <td>10000000.0</td>\n",
       "    </tr>\n",
       "    <tr>\n",
       "      <th>3</th>\n",
       "      <td>12/04/2019</td>\n",
       "      <td>AIADMK</td>\n",
       "      <td>1000000.0</td>\n",
       "    </tr>\n",
       "    <tr>\n",
       "      <th>4</th>\n",
       "      <td>12/04/2019</td>\n",
       "      <td>AIADMK</td>\n",
       "      <td>1000000.0</td>\n",
       "    </tr>\n",
       "    <tr>\n",
       "      <th>5</th>\n",
       "      <td>12/04/2019</td>\n",
       "      <td>AIADMK</td>\n",
       "      <td>1000000.0</td>\n",
       "    </tr>\n",
       "    <tr>\n",
       "      <th>6</th>\n",
       "      <td>12/04/2019</td>\n",
       "      <td>AIADMK</td>\n",
       "      <td>1000000.0</td>\n",
       "    </tr>\n",
       "    <tr>\n",
       "      <th>7</th>\n",
       "      <td>12/04/2019</td>\n",
       "      <td>AIADMK</td>\n",
       "      <td>1000000.0</td>\n",
       "    </tr>\n",
       "    <tr>\n",
       "      <th>8</th>\n",
       "      <td>12/04/2019</td>\n",
       "      <td>AIADMK</td>\n",
       "      <td>1000000.0</td>\n",
       "    </tr>\n",
       "    <tr>\n",
       "      <th>9</th>\n",
       "      <td>12/04/2019</td>\n",
       "      <td>AIADMK</td>\n",
       "      <td>1000000.0</td>\n",
       "    </tr>\n",
       "  </tbody>\n",
       "</table>\n",
       "</div>"
      ],
      "text/plain": [
       "  Date of\\nEncashment Name of the Political Party  Denomination\n",
       "0          12/04/2019                      AIADMK     1000000.0\n",
       "1          12/04/2019                      AIADMK     1000000.0\n",
       "2          12/04/2019                      AIADMK    10000000.0\n",
       "3          12/04/2019                      AIADMK     1000000.0\n",
       "4          12/04/2019                      AIADMK     1000000.0\n",
       "5          12/04/2019                      AIADMK     1000000.0\n",
       "6          12/04/2019                      AIADMK     1000000.0\n",
       "7          12/04/2019                      AIADMK     1000000.0\n",
       "8          12/04/2019                      AIADMK     1000000.0\n",
       "9          12/04/2019                      AIADMK     1000000.0"
      ]
     },
     "execution_count": 128,
     "metadata": {},
     "output_type": "execute_result"
    }
   ],
   "source": [
    "df.head(10)"
   ]
  },
  {
   "cell_type": "code",
   "execution_count": null,
   "metadata": {},
   "outputs": [],
   "source": []
  }
 ],
 "metadata": {
  "kernelspec": {
   "display_name": "Python 3",
   "language": "python",
   "name": "python3"
  },
  "language_info": {
   "codemirror_mode": {
    "name": "ipython",
    "version": 3
   },
   "file_extension": ".py",
   "mimetype": "text/x-python",
   "name": "python",
   "nbconvert_exporter": "python",
   "pygments_lexer": "ipython3",
   "version": "3.12.2"
  }
 },
 "nbformat": 4,
 "nbformat_minor": 2
}
